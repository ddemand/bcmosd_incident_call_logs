{
 "cells": [
  {
   "cell_type": "code",
   "execution_count": 1,
   "metadata": {
    "scrolled": true
   },
   "outputs": [
    {
     "name": "stdout",
     "output_type": "stream",
     "text": [
      "Set a date variable of: 2022-04-24\n",
      "The file,'Daily_Incident_Log.xlsx' already exists in /Users/daviddemand/PycharmProjects/bcmosd_incident_call_logs and is being removed.\n",
      "Daily_Incident_Log.xlsx has been removed from the directory.\n"
     ]
    },
    {
     "ename": "SessionNotCreatedException",
     "evalue": "Message: session not created: This version of ChromeDriver only supports Chrome version 80\n",
     "output_type": "error",
     "traceback": [
      "\u001b[0;31m---------------------------------------------------------------------------\u001b[0m",
      "\u001b[0;31mSessionNotCreatedException\u001b[0m                Traceback (most recent call last)",
      "\u001b[0;32m<ipython-input-1-d291bc5fcbf1>\u001b[0m in \u001b[0;36m<module>\u001b[0;34m\u001b[0m\n\u001b[1;32m     28\u001b[0m \u001b[0;34m\u001b[0m\u001b[0m\n\u001b[1;32m     29\u001b[0m \u001b[0;34m\u001b[0m\u001b[0m\n\u001b[0;32m---> 30\u001b[0;31m \u001b[0mdriver\u001b[0m \u001b[0;34m=\u001b[0m \u001b[0mwebdriver\u001b[0m\u001b[0;34m.\u001b[0m\u001b[0mChrome\u001b[0m\u001b[0;34m(\u001b[0m\u001b[0moptions\u001b[0m\u001b[0;34m=\u001b[0m\u001b[0mchrome_options\u001b[0m\u001b[0;34m)\u001b[0m\u001b[0;34m\u001b[0m\u001b[0;34m\u001b[0m\u001b[0m\n\u001b[0m\u001b[1;32m     31\u001b[0m \u001b[0mdriver\u001b[0m\u001b[0;34m.\u001b[0m\u001b[0mmaximize_window\u001b[0m\u001b[0;34m(\u001b[0m\u001b[0;34m)\u001b[0m\u001b[0;34m\u001b[0m\u001b[0;34m\u001b[0m\u001b[0m\n\u001b[1;32m     32\u001b[0m \u001b[0mdriver\u001b[0m\u001b[0;34m.\u001b[0m\u001b[0mget\u001b[0m\u001b[0;34m(\u001b[0m\u001b[0murl\u001b[0m\u001b[0;34m)\u001b[0m\u001b[0;34m\u001b[0m\u001b[0;34m\u001b[0m\u001b[0m\n",
      "\u001b[0;32m/usr/local/lib/python3.7/site-packages/selenium/webdriver/chrome/webdriver.py\u001b[0m in \u001b[0;36m__init__\u001b[0;34m(self, executable_path, port, options, service_args, desired_capabilities, service_log_path, chrome_options, keep_alive)\u001b[0m\n\u001b[1;32m     79\u001b[0m                     \u001b[0mremote_server_addr\u001b[0m\u001b[0;34m=\u001b[0m\u001b[0mself\u001b[0m\u001b[0;34m.\u001b[0m\u001b[0mservice\u001b[0m\u001b[0;34m.\u001b[0m\u001b[0mservice_url\u001b[0m\u001b[0;34m,\u001b[0m\u001b[0;34m\u001b[0m\u001b[0;34m\u001b[0m\u001b[0m\n\u001b[1;32m     80\u001b[0m                     keep_alive=keep_alive),\n\u001b[0;32m---> 81\u001b[0;31m                 desired_capabilities=desired_capabilities)\n\u001b[0m\u001b[1;32m     82\u001b[0m         \u001b[0;32mexcept\u001b[0m \u001b[0mException\u001b[0m\u001b[0;34m:\u001b[0m\u001b[0;34m\u001b[0m\u001b[0;34m\u001b[0m\u001b[0m\n\u001b[1;32m     83\u001b[0m             \u001b[0mself\u001b[0m\u001b[0;34m.\u001b[0m\u001b[0mquit\u001b[0m\u001b[0;34m(\u001b[0m\u001b[0;34m)\u001b[0m\u001b[0;34m\u001b[0m\u001b[0;34m\u001b[0m\u001b[0m\n",
      "\u001b[0;32m/usr/local/lib/python3.7/site-packages/selenium/webdriver/remote/webdriver.py\u001b[0m in \u001b[0;36m__init__\u001b[0;34m(self, command_executor, desired_capabilities, browser_profile, proxy, keep_alive, file_detector, options)\u001b[0m\n\u001b[1;32m    155\u001b[0m             warnings.warn(\"Please use FirefoxOptions to set browser profile\",\n\u001b[1;32m    156\u001b[0m                           DeprecationWarning, stacklevel=2)\n\u001b[0;32m--> 157\u001b[0;31m         \u001b[0mself\u001b[0m\u001b[0;34m.\u001b[0m\u001b[0mstart_session\u001b[0m\u001b[0;34m(\u001b[0m\u001b[0mcapabilities\u001b[0m\u001b[0;34m,\u001b[0m \u001b[0mbrowser_profile\u001b[0m\u001b[0;34m)\u001b[0m\u001b[0;34m\u001b[0m\u001b[0;34m\u001b[0m\u001b[0m\n\u001b[0m\u001b[1;32m    158\u001b[0m         \u001b[0mself\u001b[0m\u001b[0;34m.\u001b[0m\u001b[0m_switch_to\u001b[0m \u001b[0;34m=\u001b[0m \u001b[0mSwitchTo\u001b[0m\u001b[0;34m(\u001b[0m\u001b[0mself\u001b[0m\u001b[0;34m)\u001b[0m\u001b[0;34m\u001b[0m\u001b[0;34m\u001b[0m\u001b[0m\n\u001b[1;32m    159\u001b[0m         \u001b[0mself\u001b[0m\u001b[0;34m.\u001b[0m\u001b[0m_mobile\u001b[0m \u001b[0;34m=\u001b[0m \u001b[0mMobile\u001b[0m\u001b[0;34m(\u001b[0m\u001b[0mself\u001b[0m\u001b[0;34m)\u001b[0m\u001b[0;34m\u001b[0m\u001b[0;34m\u001b[0m\u001b[0m\n",
      "\u001b[0;32m/usr/local/lib/python3.7/site-packages/selenium/webdriver/remote/webdriver.py\u001b[0m in \u001b[0;36mstart_session\u001b[0;34m(self, capabilities, browser_profile)\u001b[0m\n\u001b[1;32m    250\u001b[0m         parameters = {\"capabilities\": w3c_caps,\n\u001b[1;32m    251\u001b[0m                       \"desiredCapabilities\": capabilities}\n\u001b[0;32m--> 252\u001b[0;31m         \u001b[0mresponse\u001b[0m \u001b[0;34m=\u001b[0m \u001b[0mself\u001b[0m\u001b[0;34m.\u001b[0m\u001b[0mexecute\u001b[0m\u001b[0;34m(\u001b[0m\u001b[0mCommand\u001b[0m\u001b[0;34m.\u001b[0m\u001b[0mNEW_SESSION\u001b[0m\u001b[0;34m,\u001b[0m \u001b[0mparameters\u001b[0m\u001b[0;34m)\u001b[0m\u001b[0;34m\u001b[0m\u001b[0;34m\u001b[0m\u001b[0m\n\u001b[0m\u001b[1;32m    253\u001b[0m         \u001b[0;32mif\u001b[0m \u001b[0;34m'sessionId'\u001b[0m \u001b[0;32mnot\u001b[0m \u001b[0;32min\u001b[0m \u001b[0mresponse\u001b[0m\u001b[0;34m:\u001b[0m\u001b[0;34m\u001b[0m\u001b[0;34m\u001b[0m\u001b[0m\n\u001b[1;32m    254\u001b[0m             \u001b[0mresponse\u001b[0m \u001b[0;34m=\u001b[0m \u001b[0mresponse\u001b[0m\u001b[0;34m[\u001b[0m\u001b[0;34m'value'\u001b[0m\u001b[0;34m]\u001b[0m\u001b[0;34m\u001b[0m\u001b[0;34m\u001b[0m\u001b[0m\n",
      "\u001b[0;32m/usr/local/lib/python3.7/site-packages/selenium/webdriver/remote/webdriver.py\u001b[0m in \u001b[0;36mexecute\u001b[0;34m(self, driver_command, params)\u001b[0m\n\u001b[1;32m    319\u001b[0m         \u001b[0mresponse\u001b[0m \u001b[0;34m=\u001b[0m \u001b[0mself\u001b[0m\u001b[0;34m.\u001b[0m\u001b[0mcommand_executor\u001b[0m\u001b[0;34m.\u001b[0m\u001b[0mexecute\u001b[0m\u001b[0;34m(\u001b[0m\u001b[0mdriver_command\u001b[0m\u001b[0;34m,\u001b[0m \u001b[0mparams\u001b[0m\u001b[0;34m)\u001b[0m\u001b[0;34m\u001b[0m\u001b[0;34m\u001b[0m\u001b[0m\n\u001b[1;32m    320\u001b[0m         \u001b[0;32mif\u001b[0m \u001b[0mresponse\u001b[0m\u001b[0;34m:\u001b[0m\u001b[0;34m\u001b[0m\u001b[0;34m\u001b[0m\u001b[0m\n\u001b[0;32m--> 321\u001b[0;31m             \u001b[0mself\u001b[0m\u001b[0;34m.\u001b[0m\u001b[0merror_handler\u001b[0m\u001b[0;34m.\u001b[0m\u001b[0mcheck_response\u001b[0m\u001b[0;34m(\u001b[0m\u001b[0mresponse\u001b[0m\u001b[0;34m)\u001b[0m\u001b[0;34m\u001b[0m\u001b[0;34m\u001b[0m\u001b[0m\n\u001b[0m\u001b[1;32m    322\u001b[0m             response['value'] = self._unwrap_value(\n\u001b[1;32m    323\u001b[0m                 response.get('value', None))\n",
      "\u001b[0;32m/usr/local/lib/python3.7/site-packages/selenium/webdriver/remote/errorhandler.py\u001b[0m in \u001b[0;36mcheck_response\u001b[0;34m(self, response)\u001b[0m\n\u001b[1;32m    240\u001b[0m                 \u001b[0malert_text\u001b[0m \u001b[0;34m=\u001b[0m \u001b[0mvalue\u001b[0m\u001b[0;34m[\u001b[0m\u001b[0;34m'alert'\u001b[0m\u001b[0;34m]\u001b[0m\u001b[0;34m.\u001b[0m\u001b[0mget\u001b[0m\u001b[0;34m(\u001b[0m\u001b[0;34m'text'\u001b[0m\u001b[0;34m)\u001b[0m\u001b[0;34m\u001b[0m\u001b[0;34m\u001b[0m\u001b[0m\n\u001b[1;32m    241\u001b[0m             \u001b[0;32mraise\u001b[0m \u001b[0mexception_class\u001b[0m\u001b[0;34m(\u001b[0m\u001b[0mmessage\u001b[0m\u001b[0;34m,\u001b[0m \u001b[0mscreen\u001b[0m\u001b[0;34m,\u001b[0m \u001b[0mstacktrace\u001b[0m\u001b[0;34m,\u001b[0m \u001b[0malert_text\u001b[0m\u001b[0;34m)\u001b[0m\u001b[0;34m\u001b[0m\u001b[0;34m\u001b[0m\u001b[0m\n\u001b[0;32m--> 242\u001b[0;31m         \u001b[0;32mraise\u001b[0m \u001b[0mexception_class\u001b[0m\u001b[0;34m(\u001b[0m\u001b[0mmessage\u001b[0m\u001b[0;34m,\u001b[0m \u001b[0mscreen\u001b[0m\u001b[0;34m,\u001b[0m \u001b[0mstacktrace\u001b[0m\u001b[0;34m)\u001b[0m\u001b[0;34m\u001b[0m\u001b[0;34m\u001b[0m\u001b[0m\n\u001b[0m\u001b[1;32m    243\u001b[0m \u001b[0;34m\u001b[0m\u001b[0m\n\u001b[1;32m    244\u001b[0m     \u001b[0;32mdef\u001b[0m \u001b[0m_value_or_default\u001b[0m\u001b[0;34m(\u001b[0m\u001b[0mself\u001b[0m\u001b[0;34m,\u001b[0m \u001b[0mobj\u001b[0m\u001b[0;34m,\u001b[0m \u001b[0mkey\u001b[0m\u001b[0;34m,\u001b[0m \u001b[0mdefault\u001b[0m\u001b[0;34m)\u001b[0m\u001b[0;34m:\u001b[0m\u001b[0;34m\u001b[0m\u001b[0;34m\u001b[0m\u001b[0m\n",
      "\u001b[0;31mSessionNotCreatedException\u001b[0m: Message: session not created: This version of ChromeDriver only supports Chrome version 80\n"
     ]
    }
   ],
   "source": [
    "import os.path\n",
    "from selenium import webdriver\n",
    "from selenium.webdriver.common.keys import Keys\n",
    "from selenium.webdriver.support.ui import WebDriverWait\n",
    "from selenium.webdriver.support import expected_conditions as EC\n",
    "from selenium.webdriver.common.by import By\n",
    "from datetime import date, timedelta\n",
    "import time\n",
    "\n",
    "# Set the required variables\n",
    "print(\"Set a date variable of: \" + str(date.today() + timedelta(days=-30)))\n",
    "start = date.today() + timedelta(days=-30)\n",
    "file = 'Daily_Incident_Log.xlsx'\n",
    "url = 'https://report.boonecountymo.org/mrcjava/servlet/SH01_MP.I00070s'\n",
    "\n",
    "\n",
    "download_dir = str(os.getcwd())\n",
    "chrome_options = webdriver.ChromeOptions()\n",
    "preferences = {\"download.default_directory\": str(download_dir), \"safebrowsing.enabled\": \"false\" }\n",
    "chrome_options.add_experimental_option(\"prefs\", preferences)\n",
    "\n",
    "if os.path.exists(file):\n",
    "    print (\"The file,'\"+file+\"' already exists in \"+os.getcwd()+\" and is being removed.\")\n",
    "    os.remove(file)\n",
    "    print(file + \" has been removed from the directory.\")\n",
    "else:\n",
    "    print(\"The file '\" + file + \"' does not exist in the \" + os.getcwd() + \" directory.\")\n",
    "\n",
    "\n",
    "driver = webdriver.Chrome(options=chrome_options)\n",
    "driver.maximize_window()\n",
    "driver.get(url)\n",
    "WebDriverWait(driver, 3).until(EC.presence_of_element_located((By.ID, 'startDate')))\n",
    "print(\"Web page is ready!\")\n",
    "WebDriverWait(driver, 3).until(EC.element_to_be_clickable((By.ID, 'startDate')))\n",
    "print(\"Clearing the 'From' datepicker field...\")\n",
    "driver.find_element_by_name('startDate').clear()\n",
    "print(\"Adding the date for 30 days back to the 'From' datepicker...\")\n",
    "driver.find_element_by_name('startDate').send_keys(str(start.strftime(\"%m/%d/%Y\")) + Keys.RETURN)\n",
    "print(\"Pressing the Search button...\")\n",
    "WebDriverWait(driver, 3).until(EC.element_to_be_clickable((By.CSS_SELECTOR, 'button.btn:nth-child(1)'))).click()\n",
    "print(\"Downloading the file by pressing the 'Export to Excel' button...\")\n",
    "WebDriverWait(driver, 3).until(EC.element_to_be_clickable((By.CSS_SELECTOR, 'a.btn:nth-child(3)'))).click()\n",
    "print(\"Waiting for the export...\")\n",
    "time.sleep(5)\n",
    "print(\"Closing the browser.\")\n",
    "driver.close()"
   ]
  },
  {
   "cell_type": "code",
   "execution_count": 2,
   "metadata": {},
   "outputs": [
    {
     "name": "stdout",
     "output_type": "stream",
     "text": [
      "The file 'Daily_Incident_Log.xlsx' does not exist.\n"
     ]
    },
    {
     "ename": "NameError",
     "evalue": "name 'df' is not defined",
     "output_type": "error",
     "traceback": [
      "\u001b[0;31m---------------------------------------------------------------------------\u001b[0m",
      "\u001b[0;31mNameError\u001b[0m                                 Traceback (most recent call last)",
      "\u001b[0;32m<ipython-input-2-4238ab778a61>\u001b[0m in \u001b[0;36m<module>\u001b[0;34m\u001b[0m\n\u001b[1;32m     18\u001b[0m \u001b[0;34m\u001b[0m\u001b[0m\n\u001b[1;32m     19\u001b[0m \u001b[0;31m# Print the column names\u001b[0m\u001b[0;34m\u001b[0m\u001b[0;34m\u001b[0m\u001b[0;34m\u001b[0m\u001b[0m\n\u001b[0;32m---> 20\u001b[0;31m \u001b[0mprint\u001b[0m\u001b[0;34m(\u001b[0m\u001b[0mdf\u001b[0m\u001b[0;34m.\u001b[0m\u001b[0mcolumns\u001b[0m\u001b[0;34m)\u001b[0m\u001b[0;34m\u001b[0m\u001b[0;34m\u001b[0m\u001b[0m\n\u001b[0m\u001b[1;32m     21\u001b[0m \u001b[0;34m\u001b[0m\u001b[0m\n\u001b[1;32m     22\u001b[0m \u001b[0;31m# Rename the columns to remove spaces and special characters\u001b[0m\u001b[0;34m\u001b[0m\u001b[0;34m\u001b[0m\u001b[0;34m\u001b[0m\u001b[0m\n",
      "\u001b[0;31mNameError\u001b[0m: name 'df' is not defined"
     ]
    }
   ],
   "source": [
    "# ===== Data wrangling\n",
    "import pandas as pd\n",
    "import pyproj\n",
    "import os\n",
    "import datetime as dt\n",
    "import numpy as np\n",
    "\n",
    "# Read in the excel data as a pandas dataframe\n",
    "file = 'Daily_Incident_Log.xlsx'\n",
    "\n",
    "if os.path.exists(file):\n",
    "    print(file + \" is being read.\"),\n",
    "    df = pd.read_excel(\"Daily_Incident_Log.xlsx\", sheet_name=0,\n",
    "                       skiprows=range(0, 2))\n",
    "\n",
    "else:\n",
    "    print(\"The file '\" + file + \"' does not exist.\")\n",
    "\n",
    "# Print the column names\n",
    "print(df.columns)\n",
    "\n",
    "# Rename the columns to remove spaces and special characters\n",
    "print(\"Rename the columns to remove white spaces and special characters\")\n",
    "df.columns = [\"Call_Date\", \"Call_Time\", \"Incident_Number\", \"Case_Number\", \"Address\", \"Apt_Lot\", \"XCoordinate\",\n",
    "              \"YCoordinate\", \"Incident\"]\n",
    "print(df.columns)\n",
    "\n",
    "# Combine the Date and Time columns into one\n",
    "df['Datetime'] = pd.to_datetime(df['Call_Date'] + ' ' + df['Call_Time'])\n",
    "df['Day_of_week'] = df[['Datetime']].apply(lambda x: dt.datetime.strftime(x['Datetime'], '%A'), axis=1)\n",
    "df = df.sort_values('Datetime')\n",
    "df = df.reset_index(drop=True)\n",
    "df['time_diff'] = (df['Datetime'] - df['Datetime'].shift(1)).astype('timedelta64[m]')\n",
    "\n",
    "fips2402 = pyproj.Proj(\n",
    "    \"+proj=tmerc +lat_0=35.83333333333334 +lon_0=-92.5 +k=0.999933 +x_0=500000.0000000002 +y_0=0 +ellps=GRS80 +datum=NAD83 +to_meter=0.3048006096012192 no_defs\")\n",
    "wgs84 = pyproj.Proj(\"EPSG:4326\")\n",
    "\n",
    "# Add two new columns for Latitude and Longitude from the transformation from state plane coordinates\n",
    "df[['Latitude', 'Longitude']] = pd.DataFrame(\n",
    "    pyproj.transform(fips2402, wgs84, df.XCoordinate.to_numpy(), df.YCoordinate.to_numpy())).T\n",
    "\n",
    "# Perform summaries\n",
    "df['Calls'] = 1\n",
    "hot_spots = df.groupby(['Address', 'Incident', 'Latitude','Longitude']).size().reset_index(name='Call_Counts').sort_values('Call_Counts', ascending=False)\n",
    "calls_df = df[['Datetime', 'Incident','Calls']]\n",
    "\n",
    "# ====== Sort the hot_spots dataframe by Call_Counts\n",
    "hot_spots.sort_values('Call_Counts', ascending=False)"
   ]
  },
  {
   "cell_type": "code",
   "execution_count": null,
   "metadata": {},
   "outputs": [],
   "source": [
    "print(\"This analysis of the Call Incident records for Boone County Missouri covers a period of time between \" +\n",
    "     str(df['Day_of_week'][1]) + \", \" + str(min(df['Datetime'])) + \" and \" + str(df.loc[df.index[-1], \"Day_of_week\"]) + \", \" + str(max(df['Datetime'])) + \".\")"
   ]
  },
  {
   "cell_type": "code",
   "execution_count": null,
   "metadata": {
    "scrolled": false
   },
   "outputs": [],
   "source": [
    "import plotly.express as px\n",
    "\n",
    "fig = px.histogram(data_frame=df\n",
    "     , x=\"Datetime\"\n",
    "     , title=\"Call Incidents : Count of Calls per Day\"\n",
    "     , template='plotly'\n",
    "     )\n",
    "fig.show()"
   ]
  },
  {
   "cell_type": "code",
   "execution_count": null,
   "metadata": {
    "scrolled": true
   },
   "outputs": [],
   "source": [
    "# ====== Print an insight\n",
    "print(\"The mean time between calls from \" + str(min(df['Datetime'])) + \" through \" +  str(max(df['Datetime'])) + \" is \" + str(round(df['time_diff'].mean(),2)) + \" minutes.\")"
   ]
  },
  {
   "cell_type": "code",
   "execution_count": null,
   "metadata": {
    "scrolled": false
   },
   "outputs": [],
   "source": [
    "import plotly.io as pio\n",
    "import pandas as pd\n",
    "\n",
    "\n",
    "data = [dict(\n",
    "  x = calls_df['Datetime'],\n",
    "  autobinx = True,\n",
    "  autobiny = True,\n",
    "  marker = dict(color = 'Incident'),\n",
    "  name = 'datetime',\n",
    "  type = 'histogram',\n",
    "  xbins = dict(\n",
    "    end = str(max(calls_df['Datetime'])),\n",
    "    size = 'H',\n",
    "    start = str(min(calls_df['Datetime']))\n",
    "  )\n",
    ")]\n",
    "\n",
    "layout = dict(\n",
    "  paper_bgcolor = 'rgb(240, 240, 240)',\n",
    "  plot_bgcolor = 'rgb(240, 240, 240)',\n",
    "  title = '<b>Total Simultaneous Call Incidents by Count per Period</b>',\n",
    "  xaxis = dict(\n",
    "    title = '',\n",
    "    type = 'category'\n",
    "  ),\n",
    "  yaxis = dict(\n",
    "    title = 'Call Incidents',\n",
    "    type = 'linear'\n",
    "  ),\n",
    "    height= 600\n",
    ")\n",
    "\n",
    "fig_dict = dict(data=data, layout=layout)\n",
    "\n",
    "pio.show(fig_dict, validate=False)"
   ]
  },
  {
   "cell_type": "code",
   "execution_count": null,
   "metadata": {
    "scrolled": false
   },
   "outputs": [],
   "source": [
    "fig = px.pie(df, values='Calls', names='Incident',\n",
    "             title='Percentage of Calls by Incident',\n",
    "             hover_data=['Incident'], labels={'Calls':'Calls'}, height= 500)\n",
    "fig.update_traces(textposition='inside', textinfo='percent+label')\n",
    "fig.show()"
   ]
  },
  {
   "cell_type": "code",
   "execution_count": null,
   "metadata": {
    "scrolled": false
   },
   "outputs": [],
   "source": [
    "# ====== Base Thematic Map\n",
    "import plotly.express as px\n",
    "\n",
    "fig = px.scatter_mapbox(df, lat=\"Latitude\", lon=\"Longitude\", color=\"Incident\", hover_name=\"Incident\",\n",
    "                        hover_data=[\"Address\", \"Datetime\"], zoom=9)\n",
    "# fig.update_layout(mapbox_style=\"open-street-map\")\n",
    "fig.update_layout(\n",
    "    mapbox_style=\"white-bg\",\n",
    "    mapbox_layers=[\n",
    "        {\n",
    "            \"below\": 'traces',\n",
    "            \"sourcetype\": \"raster\",\n",
    "            \"source\": [\n",
    "                \"https://basemap.nationalmap.gov/arcgis/rest/services/USGSImageryOnly/MapServer/tile/{z}/{y}/{x}\"\n",
    "            ]\n",
    "        }\n",
    "      ])\n",
    "fig.update_layout(margin={\"r\":0,\"t\":0,\"l\":0,\"b\":0})\n",
    "fig.show()"
   ]
  },
  {
   "cell_type": "code",
   "execution_count": null,
   "metadata": {
    "scrolled": false
   },
   "outputs": [],
   "source": [
    "# ====== Grouped Density Heatmap \n",
    "import plotly.express as px\n",
    "fig = px.density_mapbox(hot_spots, lat='Latitude', lon='Longitude', z='Call_Counts', radius=20,\n",
    "                        center=dict(lat=38.985, lon=-92.314),\n",
    "                        zoom=9, height= 800,\n",
    "                        hover_name=\"Incident\",\n",
    "                        hover_data=[\"Address\",\"Call_Counts\"],\n",
    "                        mapbox_style=\"open-street-map\")\n",
    "fig.update_layout()\n",
    "fig.show()"
   ]
  },
  {
   "cell_type": "code",
   "execution_count": null,
   "metadata": {},
   "outputs": [],
   "source": [
    "hot_spots.head(10)"
   ]
  },
  {
   "cell_type": "code",
   "execution_count": null,
   "metadata": {},
   "outputs": [],
   "source": [
    "import pandas as pd\n",
    "import plotly.graph_objects as go\n",
    "\n",
    "f = open(\"/Users/daviddemand/PycharmProjects/bcmosd_incident_call_logs/mapbox.txt\",\"r\") \n",
    "px.set_mapbox_access_token(f.read())\n",
    "\n",
    "data = [go.Scattermapbox(\n",
    "               lat=[38.985],\n",
    "               lon=[-92.314],\n",
    "               mode='markers',\n",
    "               marker=dict(size=10, color='red')\n",
    "            )\n",
    "        ]\n",
    "\n",
    "layout = go.Layout(width=800,\n",
    "    autosize=True,\n",
    "    hovermode='closest',\n",
    "    mapbox=dict(accesstoken=mapbox_access_token,\n",
    "                bearing=0,\n",
    "                center=dict(lat=38.985,\n",
    "                            lon=-92.314),\n",
    "                pitch=0,\n",
    "                zoom=9,\n",
    "                style='light'\n",
    "                )\n",
    "            )\n",
    "\n",
    "lats = list(df['Latitude'])\n",
    "lons = list(df['Longitude'])\n",
    "\n",
    "frames = [dict(data= [dict(type='scattermapbox',\n",
    "                           lat=lats[:k+1],\n",
    "                           lon=lons[:k+1])],\n",
    "               traces= [0],\n",
    "               name='frame{}'.format(k)       \n",
    "              )for k  in  range(1, len(df))]      \n",
    "\n",
    "sliders = [dict(steps= [dict(method= 'animate',\n",
    "                           args= [[ 'frame{}'.format(k) ],\n",
    "                                  dict(mode= 'immediate',\n",
    "                                  frame= dict( duration=100, redraw= True ),\n",
    "                                           transition=dict( duration= 0)\n",
    "                                          )\n",
    "                                    ],\n",
    "                            label='{:d}'.format(k)\n",
    "                             ) for k in range(len(df))], \n",
    "                transition= dict(duration= 0 ),\n",
    "                x=0,#slider starting position  \n",
    "                y=0, \n",
    "                currentvalue=dict(font=dict(size=12), \n",
    "                                  prefix='Point: ', \n",
    "                                  visible=True, \n",
    "                                  xanchor= 'center'),  \n",
    "                len=1.0)\n",
    "           ]\n",
    "\n",
    "layout.update(updatemenus=[dict(type='buttons', showactive=False,\n",
    "                                y=0,\n",
    "                                x=1.05,\n",
    "                                xanchor='right',\n",
    "                                yanchor='top',\n",
    "                                pad=dict(t=0, r=10),\n",
    "                                buttons=[dict(label='Play',\n",
    "                                              method='animate',\n",
    "                                              args=[None, \n",
    "                                                    dict(frame=dict(duration=100, \n",
    "                                                                    redraw=True),\n",
    "                                                         transition=dict(duration=0),\n",
    "                                                         fromcurrent=True,\n",
    "                                                         mode='immediate'\n",
    "                                                        )\n",
    "                                                   ]\n",
    "                                             )\n",
    "                                        ]\n",
    "                               )\n",
    "                          ],\n",
    "              sliders=sliders)\n",
    "\n",
    "fig=go.Figure(data=data, layout=layout, frames=frames)\n",
    "\n",
    "import plotly.io as pio\n",
    "pio.renderers.default = \"browser\"  ##offline plot\n",
    "fig.show()"
   ]
  }
 ],
 "metadata": {
  "kernelspec": {
   "display_name": "Python 3",
   "language": "python",
   "name": "python3"
  },
  "language_info": {
   "codemirror_mode": {
    "name": "ipython",
    "version": 3
   },
   "file_extension": ".py",
   "mimetype": "text/x-python",
   "name": "python",
   "nbconvert_exporter": "python",
   "pygments_lexer": "ipython3",
   "version": "3.7.6"
  }
 },
 "nbformat": 4,
 "nbformat_minor": 2
}
